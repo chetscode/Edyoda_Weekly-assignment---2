{
 "cells": [
  {
   "cell_type": "markdown",
   "metadata": {},
   "source": [
    "#### 1. Write a Python function that accepts a string and calculate the number of upper case letters and lower case letters.\n",
    " \n",
    "Input: 'EdYoda is a Great Learning Platform'\n",
    "\n",
    "Output: {'UPPER_CASE': 5, 'LOWER_CASE': 25}"
   ]
  },
  {
   "cell_type": "code",
   "execution_count": 1,
   "metadata": {},
   "outputs": [
    {
     "name": "stdout",
     "output_type": "stream",
     "text": [
      "{'UPPER_CASE': 5, 'LOWER_CASE': 25}\n"
     ]
    }
   ],
   "source": [
    "# don't change any function name write you all code inside the function only for every question solution and return you output as mentioned in problem statement.\n",
    "\n",
    "\n",
    "def question_first_solution(string):\n",
    "    dictof_l= {'UPPER_CASE': 0, 'LOWER_CASE': 0}\n",
    "    count_u = 0\n",
    "    count_l = 0\n",
    "    for l in string:\n",
    "        if l.isupper():\n",
    "            count_u = count_u + 1\n",
    "            dictof_l['UPPER_CASE'] = count_u\n",
    "\n",
    "        elif l.islower():\n",
    "            count_l = count_l + 1\n",
    "            dictof_l['LOWER_CASE'] = count_l\n",
    "    return dictof_l\n",
    "    pass\n",
    "\n",
    "string = 'EdYoda is a Great Learning Platform'\n",
    "print(question_first_solution(string))"
   ]
  },
  {
   "cell_type": "markdown",
   "metadata": {},
   "source": [
    "#### 2. Write a Python function that checks whether a passed string is palindrome or not.\n",
    "Note: A palindrome is a word, phrase, or sequence that reads the same backward as forward, e.g., madam or nurses run.\n",
    " \n",
    "Input: 'abcdfdcba'\n",
    "\n",
    "Output: True"
   ]
  },
  {
   "cell_type": "code",
   "execution_count": 2,
   "metadata": {},
   "outputs": [
    {
     "name": "stdout",
     "output_type": "stream",
     "text": [
      "True\n"
     ]
    }
   ],
   "source": [
    "def question_second_solution(string):\n",
    "    rev_string = string[::-1]\n",
    "   \n",
    "    if string == rev_string:\n",
    "        return True\n",
    "    return False\n",
    "    \n",
    "        \n",
    "    pass\n",
    "str = 'abcdfdcba'\n",
    "print(question_second_solution(str))"
   ]
  },
  {
   "cell_type": "markdown",
   "metadata": {},
   "source": [
    "#### 3. Write a function that returns the sum of multiples of 3 and 5 between 0 and limit (parameter). For example, if limit is 20, it should return the sum of 3, 5, 6, 9, 10, 12, 15, 18, 20.\n",
    " \n",
    "Input: 20\n",
    "    \n",
    "Output: 98"
   ]
  },
  {
   "cell_type": "code",
   "execution_count": 7,
   "metadata": {},
   "outputs": [
    {
     "name": "stdout",
     "output_type": "stream",
     "text": [
      "98\n"
     ]
    }
   ],
   "source": [
    "def question_third_solution(nums):\n",
    "    table = []\n",
    "    for i in range(1, nums+1):\n",
    "        if i % 3 == 0:\n",
    "            table.append(i)\n",
    "        elif i % 5 == 0:\n",
    "            table.append(i)\n",
    "    total = sum(table)\n",
    "    return total\n",
    "    \n",
    "    pass\n",
    "\n",
    "print(question_third_solution(20))"
   ]
  },
  {
   "cell_type": "markdown",
   "metadata": {},
   "source": [
    "#### 4. Write a Python function that accepts a hyphen-separated sequence of words as input and prints the words in a hyphen-separated sequence after sorting them alphabetically.\n",
    " \n",
    "Input: 'green-red-yellow-black-white'\n",
    "    \n",
    "Output: 'black-green-red-white-yellow'"
   ]
  },
  {
   "cell_type": "code",
   "execution_count": 2,
   "metadata": {},
   "outputs": [
    {
     "name": "stdout",
     "output_type": "stream",
     "text": [
      "black-green-red-white-yellow\n"
     ]
    }
   ],
   "source": [
    "def question_fourth_solution(string):\n",
    "    seprator = \"-\"\n",
    "    splitof_string = string.split(\"-\")\n",
    "    sortreverse = sorted(splitof_string)\n",
    "    newlist = seprator.join(sortreverse)\n",
    "#     return (f\"'{newlist}'\") \n",
    "    return newlist\n",
    "    pass\n",
    "string = 'green-red-yellow-black-white'\n",
    "# string = 'chetan-akshay-sunil-rakesh-shubham'\n",
    "print(question_fourth_solution(string))"
   ]
  },
  {
   "cell_type": "markdown",
   "metadata": {},
   "source": [
    "#### 5. Write a Python program to count the frequency of words in a file.\n",
    " \n",
    "Ouptut : Counter({'key1': value1,'key2':value2,......,'keyn':value n})\n",
    "here keys are words and values are frequency\n"
   ]
  },
  {
   "cell_type": "code",
   "execution_count": 23,
   "metadata": {},
   "outputs": [
    {
     "ename": "IndentationError",
     "evalue": "expected an indented block (<ipython-input-23-b681b424b2ea>, line 6)",
     "output_type": "error",
     "traceback": [
      "\u001b[1;36m  File \u001b[1;32m\"<ipython-input-23-b681b424b2ea>\"\u001b[1;36m, line \u001b[1;32m6\u001b[0m\n\u001b[1;33m    print(question_fifth_solution(weekdays))\u001b[0m\n\u001b[1;37m        ^\u001b[0m\n\u001b[1;31mIndentationError\u001b[0m\u001b[1;31m:\u001b[0m expected an indented block\n"
     ]
    }
   ],
   "source": [
    "from collections import Counter\n",
    "def question_fifth_solution(weekdays):\n",
    "    w = open(weekdays)\n",
    "    return Counter(w.read().split())\n",
    "    pass\n",
    "# print(question_fifth_solution(weekdays))"
   ]
  },
  {
   "cell_type": "markdown",
   "metadata": {},
   "source": [
    "#### 6. Write a python program to find the longest words.\n",
    " \n",
    "Input : 'test.txt'\n",
    "\n",
    "Output : ['80']"
   ]
  },
  {
   "cell_type": "code",
   "execution_count": 3,
   "metadata": {},
   "outputs": [],
   "source": [
    "def question_sixth_solution(nums1):\n",
    "    f = open(nums1, 'r')\n",
    "    words = f.read().split()\n",
    "    max_len = len(max(words, key=len))\n",
    "    l = [word for word in words if len(word) == max_len]\n",
    "    return int(\"\".join(l))\n",
    "    pass\n",
    "# print(question_sixth_solution('test.txt'))"
   ]
  },
  {
   "cell_type": "markdown",
   "metadata": {},
   "source": [
    "#### 07. Write a Python program to convert a date of yyyy-mm-dd format to dd-mm-yyyy format.\n",
    "Input : \"2026-01-02\"\n",
    "\n",
    "Output : \"02-01-2026\""
   ]
  },
  {
   "cell_type": "code",
   "execution_count": 11,
   "metadata": {},
   "outputs": [
    {
     "name": "stdout",
     "output_type": "stream",
     "text": [
      "02-01-2026\n"
     ]
    }
   ],
   "source": [
    "import re\n",
    "def question_seventh_solution(dt):\n",
    "    '''solution_1'''\n",
    "    splitof_string = dt.split(\"-\")\n",
    "\n",
    "    year = splitof_string[0]\n",
    "    mm = splitof_string[1]\n",
    "    dd = splitof_string[2]\n",
    "    return (f'{dd}-{mm}-{year}')\n",
    "    return (f'\"{dd}-{mm}-{year}\"')\n",
    "\n",
    "    '''solution_2'''\n",
    "#     change_date =  re.sub(r'(\\d{4})-(\\d{1,2})-(\\d{1,2})', '\\\\3-\\\\2-\\\\1', dt)\n",
    "#     return change_date\n",
    "    pass\n",
    "print(question_seventh_solution(\"2026-01-02\"))"
   ]
  },
  {
   "cell_type": "markdown",
   "metadata": {},
   "source": [
    "#### 8. Write a Python program to find all words starting with 'a' or 'e' in a given string.\n",
    "Input : \"The following example creates an ArrayList with a capacity of 50 elements. Four elements are then added to the ArrayList and the ArrayList is trimmed accordingly.\")\n",
    "\n",
    "Output : 'example', 'eates', 'an', 'ayList', 'apacity', 'elements', 'elements', 'are', 'en', 'added', 'ayList', 'and', 'ayList', 'ed', 'accordingly'\n",
    "\n",
    "Explanation : it's not mendatory that first cahracter of word should be 'a' or 'e' if that word contain 'a' or 'e' that after that till space it will cosniderable as word starting with 'a' or 'e'\n",
    "\n",
    "EXAMPLE: 'creates' first letter is 'c' but it contain 'e' also so we haev to fatch 'eates' from 'creates'"
   ]
  },
  {
   "cell_type": "code",
   "execution_count": 97,
   "metadata": {},
   "outputs": [
    {
     "name": "stdout",
     "output_type": "stream",
     "text": [
      "['example', 'eates', 'an', 'ayList', 'apacity', 'elements', 'elements', 'are', 'en', 'added', 'ayList', 'and', 'ayList', 'ed', 'accordingly']\n"
     ]
    }
   ],
   "source": [
    "import re\n",
    "def question_eighth_solution(text):\n",
    "    words = re.findall('[ae]\\w+', text)\n",
    "    return words\n",
    "    \n",
    "    \n",
    "\n",
    "       \n",
    "    pass\n",
    "text = \"The following example creates an ArrayList with a capacity of 50 elements. Four elements are then added to the ArrayList and the ArrayList is trimmed accordingly.\"\n",
    "print(question_eighth_solution(text))"
   ]
  },
  {
   "cell_type": "markdown",
   "metadata": {},
   "source": [
    "#### 9. Write a Python program to replace maximum 2 occurrences of space, comma, or dot with a colon.\n",
    "Input : 'Python Exercises, PHP exercises.'\n",
    "\n",
    "Output : 'Python:Exercises: PHP exercises.'"
   ]
  },
  {
   "cell_type": "code",
   "execution_count": 119,
   "metadata": {},
   "outputs": [
    {
     "name": "stdout",
     "output_type": "stream",
     "text": [
      "Python:Exercises: PHP exercises.\n"
     ]
    }
   ],
   "source": [
    "def question_ninth_solution(text):\n",
    "    result = ''\n",
    "    test = [' ', ',', '.']\n",
    "    count = 0\n",
    "    for i in text:\n",
    "        if i.isalpha() and count < 2 :\n",
    "            result += i\n",
    "        elif count < 2 and i in test:\n",
    "            result += ':'\n",
    "            count += 1\n",
    "        else:\n",
    "            result += i\n",
    "    return result\n",
    "\n",
    "    pass\n",
    "text = 'Python Exercises, PHP exercises.'\n",
    "print(question_ninth_solution(text))"
   ]
  },
  {
   "cell_type": "markdown",
   "metadata": {},
   "source": [
    "#### 10. Write a Python program to split a string at uppercase letters.\n",
    "Input : \"PythonTutorialAndExercises\"\n",
    "\n",
    "Output : 'Python', 'Tutorial', 'And', 'Exercises'"
   ]
  },
  {
   "cell_type": "code",
   "execution_count": 110,
   "metadata": {},
   "outputs": [
    {
     "name": "stdout",
     "output_type": "stream",
     "text": [
      "['Python', 'Tutorial', 'And', 'Exercises']\n"
     ]
    }
   ],
   "source": [
    "import re\n",
    "def question_tenth_solution(text):\n",
    "    result = (re.findall('[A-Z][^A-Z]*', text))\n",
    "    return result\n",
    "    \n",
    "    pass\n",
    "text=\"PythonTutorialAndExercises\"\n",
    "print(question_tenth_solution(text))"
   ]
  }
 ],
 "metadata": {
  "kernelspec": {
   "display_name": "Python 3",
   "language": "python",
   "name": "python3"
  },
  "language_info": {
   "codemirror_mode": {
    "name": "ipython",
    "version": 3
   },
   "file_extension": ".py",
   "mimetype": "text/x-python",
   "name": "python",
   "nbconvert_exporter": "python",
   "pygments_lexer": "ipython3",
   "version": "3.7.3"
  }
 },
 "nbformat": 4,
 "nbformat_minor": 4
}
